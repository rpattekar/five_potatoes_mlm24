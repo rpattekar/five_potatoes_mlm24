{
 "cells": [
  {
   "cell_type": "code",
   "execution_count": 1,
   "metadata": {},
   "outputs": [],
   "source": [
    "import csv\n",
    "import pandas as pd"
   ]
  },
  {
   "cell_type": "code",
   "execution_count": 7,
   "metadata": {},
   "outputs": [],
   "source": [
    "df = pd.read_csv('train.csv')"
   ]
  },
  {
   "cell_type": "code",
   "execution_count": 19,
   "metadata": {},
   "outputs": [
    {
     "name": "stdout",
     "output_type": "stream",
     "text": [
      "               id                                            premise  \\\n",
      "0      5130fd2cb5  and these comments were considered in formulat...   \n",
      "1      5b72532a0b  These are issues that we wrestle with in pract...   \n",
      "3      5622f0c60b  you know they can't really defend themselves l...   \n",
      "7      fdcd1bd867              From Cockpit Country to St. Ann's Bay   \n",
      "8      7cfb3d272c  Look, it's your skin, but you're going to be i...   \n",
      "...           ...                                                ...   \n",
      "12115  2b78e2a914  The results of even the most well designed epi...   \n",
      "12116  7e9943d152  But there are two kinds of  the pleasure of do...   \n",
      "12117  5085923e6c  The important thing is to realize that it's wa...   \n",
      "12118  fc8e2fd1fe  At the west end is a detailed model of the who...   \n",
      "12119  44301dfb14  For himself he chose Atat??rk, or Father of th...   \n",
      "\n",
      "                                              hypothesis lang_abv language  \\\n",
      "0      The rules developed in the interim were put to...       en  English   \n",
      "1      Practice groups are not permitted to work on t...       en  English   \n",
      "3      They can't defend themselves because of their ...       en  English   \n",
      "7                 From St. Ann's Bay to Cockpit Country.       en  English   \n",
      "8      The boss will fire you if he sees you slacking...       en  English   \n",
      "...                                                  ...      ...      ...   \n",
      "12115  All studies have the same amount of uncertaint...       en  English   \n",
      "12116  But there are two kinds of the pleasure of doi...       en  English   \n",
      "12117                   It cannot be moved, now or ever.       en  English   \n",
      "12118       The model temple complex is at the east end.       en  English   \n",
      "12119      Ataturk was the father of the Turkish nation.       en  English   \n",
      "\n",
      "       label  \n",
      "0          0  \n",
      "1          2  \n",
      "3          0  \n",
      "7          2  \n",
      "8          1  \n",
      "...      ...  \n",
      "12115      2  \n",
      "12116      0  \n",
      "12117      2  \n",
      "12118      2  \n",
      "12119      0  \n",
      "\n",
      "[6870 rows x 6 columns]\n"
     ]
    }
   ],
   "source": [
    "# Filtering to English\n",
    "english_df = df[df['lang_abv'] == 'en']\n",
    "print(english_df)"
   ]
  },
  {
   "cell_type": "code",
   "execution_count": 20,
   "metadata": {},
   "outputs": [
    {
     "name": "stdout",
     "output_type": "stream",
     "text": [
      "0        The rules developed in the interim were put to...\n",
      "1        Practice groups are not permitted to work on t...\n",
      "3        They can't defend themselves because of their ...\n",
      "7                   From St. Ann's Bay to Cockpit Country.\n",
      "8        The boss will fire you if he sees you slacking...\n",
      "                               ...                        \n",
      "12115    All studies have the same amount of uncertaint...\n",
      "12116    But there are two kinds of the pleasure of doi...\n",
      "12117                     It cannot be moved, now or ever.\n",
      "12118         The model temple complex is at the east end.\n",
      "12119        Ataturk was the father of the Turkish nation.\n",
      "Name: hypothesis, Length: 6870, dtype: object\n"
     ]
    }
   ],
   "source": [
    "print(english_df['hypothesis'])"
   ]
  }
 ],
 "metadata": {
  "kernelspec": {
   "display_name": "Python 3",
   "language": "python",
   "name": "python3"
  },
  "language_info": {
   "codemirror_mode": {
    "name": "ipython",
    "version": 3
   },
   "file_extension": ".py",
   "mimetype": "text/x-python",
   "name": "python",
   "nbconvert_exporter": "python",
   "pygments_lexer": "ipython3",
   "version": "3.12.3"
  }
 },
 "nbformat": 4,
 "nbformat_minor": 2
}
